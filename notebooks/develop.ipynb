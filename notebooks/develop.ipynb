{
 "cells": [
  {
   "cell_type": "code",
   "execution_count": 80,
   "metadata": {},
   "outputs": [],
   "source": [
    "import numpy as np\n",
    "import matplotlib as mpl\n",
    "from matplotlib import pyplot as plt"
   ]
  },
  {
   "cell_type": "code",
   "execution_count": 84,
   "metadata": {},
   "outputs": [],
   "source": [
    "cbar_lims = (0.9745840150210828, 1.0315589798073763)\n",
    "cmin = cbar_lims[0]\n",
    "cmax = 1.01 #cbar_lims[1]\n",
    "cmap = \"binary\"\n",
    "npzfile = np.load(\"../tests/data/xyz.npz\")\n",
    "x, y, z = npzfile.values()"
   ]
  },
  {
   "cell_type": "code",
   "execution_count": 85,
   "metadata": {},
   "outputs": [],
   "source": [
    "def _make_colorbar(fig, cmap, levels, cmin, cmax):\n",
    "    norm = mpl.colors.Normalize(vmin = cmin, vmax = cmax, clip = True)\n",
    "    sm = plt.cm.ScalarMappable(norm = norm, cmap = cmap)\n",
    "    sm.set_array([])\n",
    "    cbar = fig.colorbar(sm, ticks = levels,\n",
    "                        format = \"%.3f\", drawedges = False)\n",
    "    return cbar\n",
    "def _plot_contour(ax, x, y, z, cmap = \"gray\", norm = None, levels = 10):\n",
    "    conts = ax.tricontourf(x, y, z, cmap = cmap, levels = levels, norm = norm)\n",
    "    return conts"
   ]
  },
  {
   "cell_type": "code",
   "execution_count": 86,
   "metadata": {},
   "outputs": [
    {
     "data": {
      "text/plain": [
       "Text(0, 0.5, 'z')"
      ]
     },
     "execution_count": 86,
     "metadata": {},
     "output_type": "execute_result"
    },
    {
     "data": {
      "image/png": "[encoded data removed]",
      "text/plain": [
       "<Figure size 432x288 with 2 Axes>"
      ]
     },
     "metadata": {
      "needs_background": "light"
     },
     "output_type": "display_data"
    }
   ],
   "source": [
    "fig, ax = plt.subplots(1, 1)\n",
    "fig.tight_layout()\n",
    "\n",
    "levels = np.linspace(z.min(), z.max(), 10)\n",
    "norm = mpl.colors.Normalize(vmin = cmin, vmax = cmax, clip = False)\n",
    "conts = _plot_contour(ax, x, y, z, norm = norm, levels = levels)\n",
    "cbar = _make_colorbar(fig, conts.cmap, conts.levels, *(cmin, cmax))\n",
    "cbar.ax.set_ylabel(\"z\")"
   ]
  },
  {
   "cell_type": "code",
   "execution_count": 54,
   "metadata": {},
   "outputs": [
    {
     "data": {
      "text/plain": [
       "['_A',\n",
       " '__class__',\n",
       " '__delattr__',\n",
       " '__dict__',\n",
       " '__dir__',\n",
       " '__doc__',\n",
       " '__eq__',\n",
       " '__format__',\n",
       " '__ge__',\n",
       " '__getattribute__',\n",
       " '__getstate__',\n",
       " '__gt__',\n",
       " '__hash__',\n",
       " '__init__',\n",
       " '__init_subclass__',\n",
       " '__le__',\n",
       " '__lt__',\n",
       " '__module__',\n",
       " '__ne__',\n",
       " '__new__',\n",
       " '__reduce__',\n",
       " '__reduce_ex__',\n",
       " '__repr__',\n",
       " '__setattr__',\n",
       " '__sizeof__',\n",
       " '__str__',\n",
       " '__subclasshook__',\n",
       " '__weakref__',\n",
       " '_add_label',\n",
       " '_auto',\n",
       " '_autolev',\n",
       " '_contour_args',\n",
       " '_contour_level_args',\n",
       " '_get_allsegs_and_allkinds',\n",
       " '_get_label_clabeltext',\n",
       " '_get_label_text',\n",
       " '_get_lowers_and_uppers',\n",
       " '_levels',\n",
       " '_make_paths',\n",
       " '_maxs',\n",
       " '_mins',\n",
       " '_process_args',\n",
       " '_process_colors',\n",
       " '_process_levels',\n",
       " '_process_linestyles',\n",
       " '_process_linewidths',\n",
       " '_transform',\n",
       " 'add_checker',\n",
       " 'add_label',\n",
       " 'add_label_clabeltext',\n",
       " 'add_label_near',\n",
       " 'allkinds',\n",
       " 'allsegs',\n",
       " 'alpha',\n",
       " 'antialiased',\n",
       " 'autoscale',\n",
       " 'autoscale_None',\n",
       " 'ax',\n",
       " 'calc_label_rot_and_inline',\n",
       " 'callbacksSM',\n",
       " 'changed',\n",
       " 'check_update',\n",
       " 'cl',\n",
       " 'cl_cvalues',\n",
       " 'cl_xy',\n",
       " 'clabel',\n",
       " 'cmap',\n",
       " 'collections',\n",
       " 'colorbar',\n",
       " 'colors',\n",
       " 'cppContourGenerator',\n",
       " 'cvalues',\n",
       " 'extend',\n",
       " 'extent',\n",
       " 'filled',\n",
       " 'find_nearest_contour',\n",
       " 'get_alpha',\n",
       " 'get_array',\n",
       " 'get_clim',\n",
       " 'get_cmap',\n",
       " 'get_label_coords',\n",
       " 'get_label_width',\n",
       " 'get_real_label_width',\n",
       " 'get_text',\n",
       " 'get_transform',\n",
       " 'hatches',\n",
       " 'labelCValues',\n",
       " 'labelTexts',\n",
       " 'labels',\n",
       " 'layers',\n",
       " 'legend_elements',\n",
       " 'levels',\n",
       " 'linestyles',\n",
       " 'linewidths',\n",
       " 'locate_label',\n",
       " 'locator',\n",
       " 'logscale',\n",
       " 'monochrome',\n",
       " 'nchunk',\n",
       " 'norm',\n",
       " 'origin',\n",
       " 'pop_label',\n",
       " 'print_label',\n",
       " 'set_alpha',\n",
       " 'set_array',\n",
       " 'set_clim',\n",
       " 'set_cmap',\n",
       " 'set_label_props',\n",
       " 'set_norm',\n",
       " 'stale',\n",
       " 'tcolors',\n",
       " 'to_rgba',\n",
       " 'too_close',\n",
       " 'update_dict',\n",
       " 'zmax',\n",
       " 'zmin']"
      ]
     },
     "execution_count": 54,
     "metadata": {},
     "output_type": "execute_result"
    }
   ],
   "source": [
    "dir(conts)"
   ]
  }
 ],
 "metadata": {
  "kernelspec": {
   "display_name": "Python 3",
   "language": "python",
   "name": "python3"
  },
  "language_info": {
   "codemirror_mode": {
    "name": "ipython",
    "version": 3
   },
   "file_extension": ".py",
   "mimetype": "text/x-python",
   "name": "python",
   "nbconvert_exporter": "python",
   "pygments_lexer": "ipython3",
   "version": "3.7.1"
  }
 },
 "nbformat": 4,
 "nbformat_minor": 2
}
