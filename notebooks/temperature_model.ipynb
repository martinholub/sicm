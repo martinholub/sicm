{
 "cells": [
  {
   "cell_type": "code",
   "execution_count": 77,
   "metadata": {},
   "outputs": [
    {
     "name": "stdout",
     "output_type": "stream",
     "text": [
      "The autoreload extension is already loaded. To reload it, use:\n",
      "  %reload_ext autoreload\n"
     ]
    }
   ],
   "source": [
    "import sys\n",
    "sys.path.append(\"..\")\n",
    "\n",
    "import os\n",
    "import glob\n",
    "import numpy as np\n",
    "\n",
    "%load_ext autoreload\n",
    "%autoreload 2\n",
    "\n",
    "from sicm import io\n",
    "from sicm.models.temperature import TemperatureModel\n",
    "from sicm.models.comsol import ComsolModel, ComsolData"
   ]
  },
  {
   "cell_type": "code",
   "execution_count": 78,
   "metadata": {},
   "outputs": [
    {
     "data": {
      "text/html": [
       "<div>\n",
       "<style scoped>\n",
       "    .dataframe tbody tr th:only-of-type {\n",
       "        vertical-align: middle;\n",
       "    }\n",
       "\n",
       "    .dataframe tbody tr th {\n",
       "        vertical-align: top;\n",
       "    }\n",
       "\n",
       "    .dataframe thead th {\n",
       "        text-align: right;\n",
       "    }\n",
       "</style>\n",
       "<table border=\"1\" class=\"dataframe\">\n",
       "  <thead>\n",
       "    <tr style=\"text-align: right;\">\n",
       "      <th></th>\n",
       "      <th>rUME (m)</th>\n",
       "      <th>d (m)</th>\n",
       "      <th>Tsub (K)</th>\n",
       "      <th>Current density, z component (A)</th>\n",
       "      <th>Current density, r component (A)</th>\n",
       "      <th>Current density, phi component (A)</th>\n",
       "    </tr>\n",
       "  </thead>\n",
       "  <tbody>\n",
       "    <tr>\n",
       "      <th>0</th>\n",
       "      <td>0.000001</td>\n",
       "      <td>1.100000e-09</td>\n",
       "      <td>301.700012</td>\n",
       "      <td>-4.882232e-09</td>\n",
       "      <td>-2.718863e-10</td>\n",
       "      <td>0.0</td>\n",
       "    </tr>\n",
       "    <tr>\n",
       "      <th>1</th>\n",
       "      <td>0.000001</td>\n",
       "      <td>1.100000e-09</td>\n",
       "      <td>301.850006</td>\n",
       "      <td>-4.892002e-09</td>\n",
       "      <td>-2.724304e-10</td>\n",
       "      <td>0.0</td>\n",
       "    </tr>\n",
       "    <tr>\n",
       "      <th>2</th>\n",
       "      <td>0.000001</td>\n",
       "      <td>1.100000e-09</td>\n",
       "      <td>302.000000</td>\n",
       "      <td>-4.901772e-09</td>\n",
       "      <td>-2.729744e-10</td>\n",
       "      <td>0.0</td>\n",
       "    </tr>\n",
       "    <tr>\n",
       "      <th>3</th>\n",
       "      <td>0.000001</td>\n",
       "      <td>1.575407e-09</td>\n",
       "      <td>301.700012</td>\n",
       "      <td>-4.928637e-09</td>\n",
       "      <td>-2.744705e-10</td>\n",
       "      <td>0.0</td>\n",
       "    </tr>\n",
       "    <tr>\n",
       "      <th>4</th>\n",
       "      <td>0.000001</td>\n",
       "      <td>1.575407e-09</td>\n",
       "      <td>301.850006</td>\n",
       "      <td>-4.938439e-09</td>\n",
       "      <td>-2.750163e-10</td>\n",
       "      <td>0.0</td>\n",
       "    </tr>\n",
       "  </tbody>\n",
       "</table>\n",
       "</div>"
      ],
      "text/plain": [
       "   rUME (m)         d (m)    Tsub (K)  Current density, z component (A)  \\\n",
       "0  0.000001  1.100000e-09  301.700012                     -4.882232e-09   \n",
       "1  0.000001  1.100000e-09  301.850006                     -4.892002e-09   \n",
       "2  0.000001  1.100000e-09  302.000000                     -4.901772e-09   \n",
       "3  0.000001  1.575407e-09  301.700012                     -4.928637e-09   \n",
       "4  0.000001  1.575407e-09  301.850006                     -4.938439e-09   \n",
       "\n",
       "   Current density, r component (A)  Current density, phi component (A)  \n",
       "0                     -2.718863e-10                                 0.0  \n",
       "1                     -2.724304e-10                                 0.0  \n",
       "2                     -2.729744e-10                                 0.0  \n",
       "3                     -2.744705e-10                                 0.0  \n",
       "4                     -2.750163e-10                                 0.0  "
      ]
     },
     "execution_count": 78,
     "metadata": {},
     "output_type": "execute_result"
    }
   ],
   "source": [
    "datadir = \"S:\\\\UsersData\\\\Martin\\\\projects\\\\thermometry\\\\comsol\\\\study5\\\\results\\\\_saved\\\\004\"\n",
    "exp_name = \"ecJz\" + \".txt\"\n",
    "comd = ComsolData(datadir, exp_name)\n",
    "comd.data.head()"
   ]
  },
  {
   "cell_type": "code",
   "execution_count": 79,
   "metadata": {},
   "outputs": [
    {
     "data": {
      "text/html": [
       "<div>\n",
       "<style scoped>\n",
       "    .dataframe tbody tr th:only-of-type {\n",
       "        vertical-align: middle;\n",
       "    }\n",
       "\n",
       "    .dataframe tbody tr th {\n",
       "        vertical-align: top;\n",
       "    }\n",
       "\n",
       "    .dataframe thead th {\n",
       "        text-align: right;\n",
       "    }\n",
       "</style>\n",
       "<table border=\"1\" class=\"dataframe\">\n",
       "  <thead>\n",
       "    <tr style=\"text-align: right;\">\n",
       "      <th></th>\n",
       "      <th>rUME (m)</th>\n",
       "      <th>d (m)</th>\n",
       "      <th>Tsub (K)</th>\n",
       "      <th>Temperature (K)</th>\n",
       "    </tr>\n",
       "  </thead>\n",
       "  <tbody>\n",
       "    <tr>\n",
       "      <th>0</th>\n",
       "      <td>0.000001</td>\n",
       "      <td>1.100000e-09</td>\n",
       "      <td>301.700012</td>\n",
       "      <td>301.691132</td>\n",
       "    </tr>\n",
       "    <tr>\n",
       "      <th>1</th>\n",
       "      <td>0.000001</td>\n",
       "      <td>1.100000e-09</td>\n",
       "      <td>301.850006</td>\n",
       "      <td>301.840759</td>\n",
       "    </tr>\n",
       "    <tr>\n",
       "      <th>2</th>\n",
       "      <td>0.000001</td>\n",
       "      <td>1.100000e-09</td>\n",
       "      <td>302.000000</td>\n",
       "      <td>301.990387</td>\n",
       "    </tr>\n",
       "    <tr>\n",
       "      <th>3</th>\n",
       "      <td>0.000001</td>\n",
       "      <td>1.575407e-09</td>\n",
       "      <td>301.700012</td>\n",
       "      <td>301.689972</td>\n",
       "    </tr>\n",
       "    <tr>\n",
       "      <th>4</th>\n",
       "      <td>0.000001</td>\n",
       "      <td>1.575407e-09</td>\n",
       "      <td>301.850006</td>\n",
       "      <td>301.839539</td>\n",
       "    </tr>\n",
       "  </tbody>\n",
       "</table>\n",
       "</div>"
      ],
      "text/plain": [
       "   rUME (m)         d (m)    Tsub (K)  Temperature (K)\n",
       "0  0.000001  1.100000e-09  301.700012       301.691132\n",
       "1  0.000001  1.100000e-09  301.850006       301.840759\n",
       "2  0.000001  1.100000e-09  302.000000       301.990387\n",
       "3  0.000001  1.575407e-09  301.700012       301.689972\n",
       "4  0.000001  1.575407e-09  301.850006       301.839539"
      ]
     },
     "execution_count": 79,
     "metadata": {},
     "output_type": "execute_result"
    }
   ],
   "source": [
    "datadir = \"S:\\\\UsersData\\\\Martin\\\\projects\\\\thermometry\\\\comsol\\\\study5\\\\results\\\\_saved\\\\004\"\n",
    "exp_name = \"T_tip\" + \".txt\"\n",
    "comt = ComsolData(datadir, exp_name)\n",
    "comt.data.head()"
   ]
  },
  {
   "cell_type": "code",
   "execution_count": 80,
   "metadata": {},
   "outputs": [],
   "source": [
    "T = 301.850006\n",
    "dsub = comd.data[comd.data[\"Tsub (K)\"]==T]\n",
    "x = dsub[\"d (m)\"].values / 220e-9\n",
    "y = dsub.iloc[:, 3].values / dsub.iloc[-1, 3]\n",
    "\n",
    "dsub2 = comt.data[comt.data[\"Tsub (K)\"]==T]\n",
    "T2 = dsub2[\"Temperature (K)\"].values - 298.15"
   ]
  },
  {
   "cell_type": "code",
   "execution_count": 81,
   "metadata": {},
   "outputs": [],
   "source": [
    "tm = TemperatureModel(x, y, T2)"
   ]
  },
  {
   "cell_type": "code",
   "execution_count": 82,
   "metadata": {},
   "outputs": [
    {
     "data": {
      "image/png": "[encoded data removed]",
      "text/plain": [
       "<Figure size 450x450 with 1 Axes>"
      ]
     },
     "metadata": {},
     "output_type": "display_data"
    }
   ],
   "source": [
    "tm.plot()"
   ]
  },
  {
   "cell_type": "code",
   "execution_count": 91,
   "metadata": {},
   "outputs": [
    {
     "data": {
      "text/plain": [
       "[<matplotlib.lines.Line2D at 0x231f276f9b0>]"
      ]
     },
     "execution_count": 91,
     "metadata": {},
     "output_type": "execute_result"
    },
    {
     "data": {
      "image/png": "[encoded data removed]",
      "text/plain": [
       "<Figure size 640x480 with 1 Axes>"
      ]
     },
     "metadata": {},
     "output_type": "display_data"
    }
   ],
   "source": [
    "import matplotlib.pyplot as plt\n",
    "plt.plot(tm.x, tm.y/tm.T)\n",
    "# plt.xscale('log')"
   ]
  },
  {
   "cell_type": "code",
   "execution_count": null,
   "metadata": {},
   "outputs": [],
   "source": []
  },
  {
   "cell_type": "code",
   "execution_count": null,
   "metadata": {},
   "outputs": [],
   "source": []
  }
 ],
 "metadata": {
  "kernelspec": {
   "display_name": "Python 3",
   "language": "python",
   "name": "python3"
  },
  "language_info": {
   "codemirror_mode": {
    "name": "ipython",
    "version": 3
   },
   "file_extension": ".py",
   "mimetype": "text/x-python",
   "name": "python",
   "nbconvert_exporter": "python",
   "pygments_lexer": "ipython3",
   "version": "3.7.1"
  }
 },
 "nbformat": 4,
 "nbformat_minor": 2
}
